{
 "cells": [
  {
   "cell_type": "markdown",
   "metadata": {},
   "source": [
    "# Realsense Python Demo\n",
    "Imports:"
   ]
  },
  {
   "cell_type": "code",
   "execution_count": null,
   "metadata": {},
   "outputs": [],
   "source": [
    "import pyrealsense2 as rs\n",
    "import numpy as np\n",
    "from enum import IntEnum\n",
    "import open3d as o3d\n",
    "import matplotlib.pyplot as plt\n",
    "import pandas as pd\n",
    "\n",
    "# from RealSenseGUI import draw_geometries\n",
    "# o3d.visualization.draw_geometries = draw_geometries"
   ]
  },
  {
   "cell_type": "markdown",
   "metadata": {},
   "source": [
    "Definitions:"
   ]
  },
  {
   "cell_type": "code",
   "execution_count": null,
   "metadata": {},
   "outputs": [],
   "source": [
    "class Preset(IntEnum): # Preset for the RealSense Firmware\n",
    "    Custom = 0\n",
    "    Default = 1\n",
    "    Hand = 2\n",
    "    HighAccuracy = 3\n",
    "    HighDensity = 4\n",
    "    MediumDensity = 5\n",
    "\n",
    "# Calculate Intrinsic Camera parameters of the taken frame\n",
    "def get_intrinsic_matrix(frame):\n",
    "    intrinsics = frame.profile.as_video_stream_profile().intrinsics\n",
    "    out = o3d.camera.PinholeCameraIntrinsic(640, 480, intrinsics.fx,\n",
    "                                            intrinsics.fy, intrinsics.ppx,\n",
    "                                            intrinsics.ppy)\n",
    "    return out\n",
    "\n",
    "# Matrix to transform Pointcloud\n",
    "flip_transform = [[1, 0, 0, 0], [0, -1, 0, 0], [0, 0, -1, 0], [0, 0, 0, 1]]\n",
    "# Saves all pointClouds before processing\n",
    "pointClouds = []"
   ]
  },
  {
   "cell_type": "markdown",
   "metadata": {},
   "source": [
    "Setup Camera:"
   ]
  },
  {
   "cell_type": "code",
   "execution_count": null,
   "metadata": {},
   "outputs": [],
   "source": [
    "# Create a pipeline\n",
    "pipeline = rs.pipeline()\n",
    "\n",
    "# Create a config and configure the pipeline to stream\n",
    "# different resolutions of color and depth streams\n",
    "config = rs.config()\n",
    "\n",
    "config.enable_stream(rs.stream.depth, 1280, 720, rs.format.z16, 30)\n",
    "config.enable_stream(rs.stream.color, 640, 480, rs.format.rgb8, 30)\n",
    "\n",
    "# Start streaming\n",
    "profile = pipeline.start(config)\n",
    "depth_sensor = profile.get_device().first_depth_sensor()\n",
    "\n",
    "# Set Depth Sensor Firmware Preset\n",
    "depth_sensor.set_option(rs.option.visual_preset, Preset.Custom)\n",
    "depth_scale = depth_sensor.get_depth_scale()\n",
    "\n",
    "# Maximum Depth\n",
    "clipping_distance_in_meters = 2  \n",
    "clipping_distance = clipping_distance_in_meters / depth_scale\n",
    "\n",
    "# Performs alignment between depth image and color image\n",
    "align_to = rs.stream.color\n",
    "align = rs.align(align_to)\n"
   ]
  },
  {
   "cell_type": "markdown",
   "metadata": {},
   "source": [
    "Capture Frames:"
   ]
  },
  {
   "cell_type": "code",
   "execution_count": null,
   "metadata": {},
   "outputs": [],
   "source": [
    "for _ in range(10): # Capture 10 PointClouds\n",
    "\n",
    "    # Get frameset of color and depth\n",
    "    frames = pipeline.wait_for_frames()\n",
    "\n",
    "    # Align the depth frame to color frame\n",
    "    aligned_frames = align.process(frames)\n",
    "\n",
    "    # Get aligned frames\n",
    "    aligned_depth_frame = aligned_frames.get_depth_frame()\n",
    "    color_frame = aligned_frames.get_color_frame()\n",
    "    intrinsic = o3d.camera.PinholeCameraIntrinsic(\n",
    "        get_intrinsic_matrix(color_frame))\n",
    "\n",
    "    # Validate that both frames are valid\n",
    "    if not aligned_depth_frame or not color_frame:\n",
    "        continue\n",
    "    \n",
    "    # Create Open3D Images\n",
    "    depth_image = o3d.geometry.Image(\n",
    "        np.array(aligned_depth_frame.get_data()))\n",
    "    color_temp = np.asarray(color_frame.get_data())\n",
    "    color_image = o3d.geometry.Image(color_temp)\n",
    "\n",
    "    # Create RGBD Image\n",
    "    rgbd_image = o3d.geometry.RGBDImage.create_from_color_and_depth(\n",
    "        color_image,\n",
    "        depth_image,\n",
    "        depth_scale=1.0 / depth_scale,\n",
    "        depth_trunc=clipping_distance_in_meters,\n",
    "        convert_rgb_to_intensity=False)\n",
    "    \n",
    "    # Convert to PointCloud\n",
    "    temp = o3d.geometry.PointCloud.create_from_rgbd_image(\n",
    "        rgbd_image, intrinsic)\n",
    "    temp.transform(flip_transform)\n",
    "    pointClouds.append(temp)"
   ]
  },
  {
   "cell_type": "markdown",
   "metadata": {},
   "source": [
    "Combine PointClouds:"
   ]
  },
  {
   "cell_type": "code",
   "execution_count": null,
   "metadata": {},
   "outputs": [],
   "source": [
    "pcd = o3d.geometry.PointCloud()\n",
    "for cloud in pointClouds:\n",
    "    pcd += cloud"
   ]
  },
  {
   "cell_type": "code",
   "execution_count": null,
   "metadata": {},
   "outputs": [],
   "source": [
    "pcd = o3d.io.read_point_cloud(\"rawPointcloud.pcd\") # Worst Case"
   ]
  },
  {
   "cell_type": "markdown",
   "metadata": {},
   "source": [
    "Visualize PointCloud:"
   ]
  },
  {
   "cell_type": "code",
   "execution_count": null,
   "metadata": {},
   "outputs": [],
   "source": [
    "o3d.visualization.draw_geometries([pcd])"
   ]
  },
  {
   "cell_type": "markdown",
   "metadata": {},
   "source": [
    "Downsample & Cluster Image:"
   ]
  },
  {
   "cell_type": "code",
   "execution_count": null,
   "metadata": {},
   "outputs": [],
   "source": [
    "pcd = pcd.voxel_down_sample(voxel_size=0.008)\n",
    "with o3d.utility.VerbosityContextManager(o3d.utility.VerbosityLevel.Debug) as cm:\n",
    "    # Label all Points into clusters\n",
    "    labels = np.array(\n",
    "        pcd.cluster_dbscan(eps=0.08, min_points=120, print_progress=True))\n",
    "\n",
    "max_label = labels.max()\n",
    "print(f\"point cloud has {max_label + 1} clusters\")\n",
    "\n",
    "# Set Colors of Points\n",
    "colors = plt.get_cmap(\"tab20\")(labels / (max_label if max_label > 0 else 1))\n",
    "colors[labels < 0] = 0\n",
    "pcd.colors = o3d.utility.Vector3dVector(colors[:, :3])"
   ]
  },
  {
   "cell_type": "markdown",
   "metadata": {},
   "source": [
    "Visualize PointCloud:"
   ]
  },
  {
   "cell_type": "code",
   "execution_count": null,
   "metadata": {},
   "outputs": [],
   "source": [
    "o3d.visualization.draw_geometries([pcd])"
   ]
  },
  {
   "cell_type": "markdown",
   "metadata": {},
   "source": [
    "Find Closest Point:"
   ]
  },
  {
   "cell_type": "code",
   "execution_count": null,
   "metadata": {},
   "outputs": [],
   "source": [
    "pcdNP = np.asarray(pcd.points)\n",
    "clusterClosestPoint = [[0,1e10] for _ in range(max_label+2)]\n",
    "for index, label in enumerate(labels):\n",
    "    # if label == 0 :\n",
    "    #     continue\n",
    "    if clusterClosestPoint[label][1]>np.linalg.norm(pcdNP[index]):\n",
    "        clusterClosestPoint[label][0] = index\n",
    "        clusterClosestPoint[label][1] = np.linalg.norm(pcdNP[index])\n",
    "        \n",
    "pd.DataFrame(clusterClosestPoint, columns=[\"Point Index\", \"Distance(m)\"])"
   ]
  },
  {
   "cell_type": "markdown",
   "metadata": {},
   "source": [
    "Label Visualization:"
   ]
  },
  {
   "cell_type": "code",
   "execution_count": null,
   "metadata": {},
   "outputs": [],
   "source": [
    "points = [[0,0,0]]\n",
    "lines = []\n",
    "textLabels = []\n",
    "for cluster, (pcdIndex, distance) in enumerate(clusterClosestPoint):\n",
    "    textLabels.append([pcdNP[pcdIndex].tolist(),f\"Cluster {cluster+1}\"])\n",
    "    points.append(pcdNP[pcdIndex].tolist())\n",
    "    lines.append([0,cluster+1])\n",
    "colors = [[1, 0, 0] for i in range(len(lines))]\n",
    "line_set = o3d.geometry.LineSet(\n",
    "    points=o3d.utility.Vector3dVector(points),\n",
    "    lines=o3d.utility.Vector2iVector(lines),\n",
    ")\n",
    "line_set.colors = o3d.utility.Vector3dVector(colors)"
   ]
  },
  {
   "cell_type": "markdown",
   "metadata": {},
   "source": [
    "Visualize PointCloud:"
   ]
  },
  {
   "cell_type": "code",
   "execution_count": null,
   "metadata": {},
   "outputs": [],
   "source": [
    "o3d.visualization.draw_geometries([pcd,line_set])"
   ]
  }
 ],
 "metadata": {
  "interpreter": {
   "hash": "ac59ebe37160ed0dfa835113d9b8498d9f09ceb179beaac4002f036b9467c963"
  },
  "kernelspec": {
   "display_name": "Python 3 (ipykernel)",
   "language": "python",
   "name": "python3"
  },
  "language_info": {
   "codemirror_mode": {
    "name": "ipython",
    "version": 3
   },
   "file_extension": ".py",
   "mimetype": "text/x-python",
   "name": "python",
   "nbconvert_exporter": "python",
   "pygments_lexer": "ipython3",
   "version": "3.9.4"
  }
 },
 "nbformat": 4,
 "nbformat_minor": 2
}
